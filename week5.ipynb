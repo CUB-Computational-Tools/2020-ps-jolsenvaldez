{
 "cells": [
  {
   "cell_type": "markdown",
   "metadata": {},
   "source": [
    "# Week 5 Problem Set: The Stefan-Boltzmann Law\n",
    "Author: Juliana Olsen-Valdez\n",
    "\n",
    "Date: October 1st, 2020"
   ]
  },
  {
   "cell_type": "markdown",
   "metadata": {},
   "source": [
    "## Introduction\n",
    "Between 1879 and 1884, two Austrian physicists simultaneously derived a thermodynamics law that related the power per unit area to an absolute temperature for perfect black bodies (those that absorb all radiant energy). The Stefan-Boltzmann law, named after both scientists, is a powerful equation that allows for the calculation of the radiation emitted and/or received by planets of different sizes, as well as the black body temperature of those planets. \n",
    "\n",
    "\n",
    "## Learning goals\n",
    "After completing this problem set, students will be able to:\n",
    "1. Define the quantitative terms in the Stefan-Boltzmann law, along with providing their units.\n",
    "2. Understand how the Stefan-Boltzmann law can be applied to thermodynamic calculations using astronomical geometry.\n",
    "3. Solve for the power (in watts) of the sun.\n",
    "4. Solve for the black body temperature (in degrees Celsius) of the earth.\n",
    "\n",
    "\n",
    "## Background and Defining Terms\n",
    "The Stefan-Boltzmann law states that the $\\textit{thermal energy radiated by a black body}$ (in watts per unit area squared) $\\textit{is proportional to the fourth power of temperature}$ (in kelvins). Note, in SI units, watts equals kg * m$^2$/$s^3$. \n",
    "\n",
    "Below is the Stefan-Boltzmann law, with labeled variables and units:\n",
    "\n",
    "$$\\frac{P}{A} = e \\sigma T^4$$\n",
    "\n",
    "Note that the three main units are Watts (for power), square meters (for surface area), and Kelvins (for temperature).\n",
    "\n",
    "$$P =\\ Power\\ (Watts)$$\n",
    "\n",
    "$$A =\\ Area\\ (meters^2)$$\n",
    "\n",
    "$$e =\\ emissivity\\ (unitless)$$\n",
    "\n",
    "$$\\sigma =\\ Stephan-Boltzmann\\ constant\\ (5.67x 10^{-8}\\ W/m^2/\\ T^4)$$\n",
    "\n",
    "$$T =\\ Temperature\\ (degrees\\ Kelvin^4)$$\n",
    "\n",
    "In this form, the Stefan-Boltzmann equation compares an energy (power per unit area squared, with units in W/m$^2$) to temperature raised to the fourth (with units in kelvin$^4$). The Stefan-Boltzmann constant creates a proportionality between these variables (notice that the units of the constant make it so that the units on either side of the equals sign simplify to (W/m$^2$). Emissivity refers to the effectiveness of an object to emit an energy. For black bodies, which absorb all incident heat radiation, emissivity is equal to 1.\n",
    "\n",
    "One more thing! When we talk about Area (in m$^2$), we're mostly talking about the surface area of a planet or black body. This is because energy comes out from all sides of a planet's surface. Therefore, Area (A) is usually represented by the equation for surface area, $4 \\pi R^2$, where R is the radius of a planet. What we take to be the area (or the radius) might change depending on what area we define as emitting or receiving energy.\n",
    "\n",
    "Now let's get into what this equation is really saying and why it is powerful: \n",
    "1. If we know the temperature and the surface area (which we can get from the radius) of a planet, we can find the wattage of that planet. \n",
    "2. We can also solve for the black body temperature of a planet if we know the amount of energy it receives. \n",
    "3. Historically in Geology, solving thermodynamics problems like these was the first step in understanding the age of the earth, processes of heat moving in the earth, and many other cornerstone geological questions.\n",
    "\n",
    "\n",
    "### Example\n",
    "We are going to use the Stefan-Boltzmann law and some astronomical geometry to calculate the Solar Constant (So), defined as the energy that the earth receives from the sun in $Watts/meters^2$. We are going to use the Stefan-Boltzmann law in this form:\n",
    "\n",
    "$$P =\\ e \\sigma \\ T^4*A$$\n",
    "\n",
    "First, we'll calculate the power from the sun using a temperature of 5770K and a surface area ($4\\pi R^2$) with a radius equal to that of the sun (6.96x10$^8$)."
   ]
  },
  {
   "cell_type": "code",
   "execution_count": 8,
   "metadata": {},
   "outputs": [],
   "source": [
    "#When we do basic mathematical calculations in python, we need the numerical library, called 'numpy'. \n",
    "#Below, you see that we import it with the short name 'np' so that it's faster to call it in our code. \n",
    "\n",
    "import numpy as np"
   ]
  },
  {
   "cell_type": "code",
   "execution_count": 9,
   "metadata": {},
   "outputs": [
    {
     "name": "stdout",
     "output_type": "stream",
     "text": [
      "{'Temp': 5770, 'Constant': 5.67e-08, 'Emissivity': 1, 'Radius1': 696000000.0, 'Radius2': 149600000000.0, 'pi': 3.14}\n"
     ]
    }
   ],
   "source": [
    "#we'll create a dictionary of constants that we'll call from when we do calculations\n",
    "constants = {'Temp' : 5770,\n",
    "             'Constant' : 5.67E-8,\n",
    "             'Emissivity' : 1,\n",
    "             'Radius1' : 6.96E8, \n",
    "             'Radius2' : 1.496E11, \n",
    "             'pi' : 3.14}\n",
    "print(constants) #The constants display below by using the \"print\" function"
   ]
  },
  {
   "cell_type": "markdown",
   "metadata": {},
   "source": [
    "Now that we have created a list of constants, we can use our pre-defined values to first calculate the power of the Sun. Here is the same equation as above ready to be solved:\n",
    "\n",
    "$$P_{sun} =\\ (1)\\ *(5.67x10^{-8})\\ *(5770^4)\\ *(\\ 4\\pi\\ (6.96x10^8)^2)$$\n",
    "\n",
    "Let's use our list of values to compute the power of the sun, which we call \"Power\"."
   ]
  },
  {
   "cell_type": "code",
   "execution_count": 10,
   "metadata": {
    "scrolled": true
   },
   "outputs": [
    {
     "name": "stdout",
     "output_type": "stream",
     "text": [
      "Power of the sun : 3.8237934958057106e+26 Watts\n"
     ]
    }
   ],
   "source": [
    "# calculate the Power of the sun\n",
    "Power = constants['Emissivity'] * constants['Constant'] * (constants['Temp'] ** 4)  * (4 * constants['pi']) * constants['Radius1'] ** 2\n",
    "print('Power of the sun :', Power, 'Watts') #display the Power of the sun with units included                                                                                                             "
   ]
  },
  {
   "cell_type": "markdown",
   "metadata": {},
   "source": [
    "Now we'll take the power of the sun and divide it by the surface area of a radius that equals the distance between the earth and the sun. Why? Because if we want to know the amount of energy (in W/m$^2$) that the earth receives from the sun and we know the power that the sun gives off, then we need to divide that power (in Watts) by an area whose radius reflects the distance that that energy travels from the sun to the earth. That is the value of 1.496x10$^{11}$ meters.\n",
    "\n",
    "$$So = P_{sun}\\ / \\ 4 \\pi R^2 $$\n",
    "\n",
    "Here's the same equation ready to be solved:\n",
    "\n",
    "$$So = P_{sun}\\ / \\ 4 \\pi\\ (1.496x10^{11})^2) $$\n",
    "\n",
    "In our code, we can take the value that we got for power and divide it by the terms that we need to represent the surface area to solve for So. "
   ]
  },
  {
   "cell_type": "code",
   "execution_count": 11,
   "metadata": {},
   "outputs": [
    {
     "name": "stdout",
     "output_type": "stream",
     "text": [
      "So:  1360.321630003413 W / m^2\n"
     ]
    }
   ],
   "source": [
    "# calculate the Solar Constant (So)\n",
    "So = (Power/(4*constants['pi']*(constants['Radius2'] ** 2)))\n",
    "print('So: ', So, 'W / m^2')"
   ]
  },
  {
   "cell_type": "markdown",
   "metadata": {},
   "source": [
    "So the $\\textbf{Solar Constant (So)}$ or energy that the earth receives from the sun in Watts per meter squared is about $\\textbf{1360 W/m^2}$. Good work! "
   ]
  },
  {
   "cell_type": "markdown",
   "metadata": {},
   "source": [
    "## Questions\n",
    "\n",
    "1) What are the units of the Stefan-Boltzmann constant? Write out the units in the Stefan-Boltzmann law to show how the units of this constant cancel certain units to leave both sides of the equation with the same units. \n",
    "_______________________________________________________\n",
    "\n",
    "2) Solve for the power (in watts) of the sun using the Sun's temperature of 5770 K and the Sun's radius of 6.97x10$^8$ meters. Assume that the sun is a black body (therefore, the emissivity will equal 1). Create a dictionary of constants and values, and then calculate the power of the sun using your dictionary. Hint: look to the example if you need help with the code! You can copy, paste, and edit any code chunks from above. Provide your answer with the correct number of significant digits. \n",
    "________________________________________________________\n",
    "\n",
    "3) Which of the following would be an appropriate equilibrium equation to represent that the power received from the sun is equal to that emitted by the earth ($P_{received} = P_{emitted}$)? Hint: this should include a comparison between the two different areas of interest (the circle area that receives energy from the sun, $\\pi R^2$, and the earth's surface area that emits energy, ($4\\pi R^2$) as well as the Solar Constant (So) and the other terms in the Stefan Boltzmann equation. Explain your reasoning behind your choice. \n",
    "\n",
    "a. $So * \\pi R^2 = e \\sigma T^4 * 4 \\pi R^2$ \n",
    "\n",
    "b. $So * 4 \\pi R^2 = e \\sigma T^4 * 4 \\pi R^2$ \n",
    "\n",
    "c. $So * \\pi R^2 = e \\sigma T^4 * \\pi R^2$ \n",
    " \n",
    "_________________________________________________________\n",
    "\n",
    "4) In the example above we calculated the Solar Constant, So (in W/m$^2$), which is the energy that the earth receives from the sun. Using this, calculate the black body temperature of the earth. Hint: we do this by using the correct equilibrium equation from question 3, rearranging to solve for temperature, and then simplifying any terms that cancel. Show each of these steps and include the code you wrote to calculate your answer. Assume that the earth is a black body. Lastly, please convert your answer from Kelvins to degrees Celsius knowing that $degrees\\ Celcius = Kelvin - 273.15$.\n",
    "\n",
    "## Sources\n",
    "-https://www.britannica.com/science/Stefan-Boltzmann-law\n",
    "\n",
    "-https://www.deviantart.com/zackdowney/art/Stefan-Boltzmann-Law-407403124\n",
    "\n",
    "-http://hyperphysics.phy-astr.gsu.edu/hbase/thermo/stefan.html\n",
    "\n",
    "-https://www.youtube.com/watch?v=DQk04xqvVbU\n",
    "\n",
    "-https://www.youtube.com/watch?v=JiWnMd9I8GE\n",
    "\n",
    "\n",
    "## Solutions to Questions\n"
   ]
  },
  {
   "cell_type": "markdown",
   "metadata": {},
   "source": [
    "1) What are the units of the Stefan-Boltzmann constant? Write out the units in the Stefan-Boltzmann law to show how the units of this constant cancel certain units to leave both sides of the equation with the same units. \n",
    "\n",
    "Q1 Solution:\n",
    "\n",
    "$(W/m^2) = (W/m^2/K^4) \\ *(K^4)$\n",
    "\n",
    "The units of the Stefan-Boltzmann constant are Watts per meters squared per kelvins to the fourth power or W/m$^2$/K$^4$. This makes sense because the Stefan-Boltzmann constant is on the right side of the equation with T$^4$. This allows for the K$^4$ in the temperature term to cancel with the K$^4$ in the denominator of the S-B constant. Then you're left with the units W/m$^2$ on the right side which is the same as the units for P/A (where Power is in Watts and Area is in m$^2$) on the left side.\n",
    "\n",
    "____________________________________________________________________________________________________________________\n",
    "\n",
    "2) Solve for the power (in watts) of the sun using the Sun's temperature of 5770 K and the Sun's radius of 6.97x10$^8$ meters. Assume that the sun is a black body (therefore, the emissivity will equal 1). Create a dictionary of constants and values, and then calculate the power of the sun using your dictionary. Hint: look to the example if you need help with the code! You can copy, paste, and edit any code chunks from above. Provide your answer with the correct number of significant digits. \n",
    "\n",
    "Q2 Solution:\n",
    "\n",
    "Here is the equation that I'll use to solve for the Power of the sun: \n",
    "$$P = e \\sigma T^4*A$$\n",
    "\n",
    "I'm following the steps from the example to write code to solve for the Power of the sun:"
   ]
  },
  {
   "cell_type": "code",
   "execution_count": 12,
   "metadata": {},
   "outputs": [
    {
     "name": "stdout",
     "output_type": "stream",
     "text": [
      "Power of the sun : 3.8237934958057106e+26 Watts\n"
     ]
    }
   ],
   "source": [
    "#Create a dictionary of constants and values\n",
    "constants = {'Temp' : 5770,\n",
    "             'Constant' : 5.67E-8,\n",
    "             'Emissivity' : 1,\n",
    "             'Radius1' : 6.96E8, \n",
    "             'pi' : 3.14}\n",
    "\n",
    "# calculate the Power of the sun\n",
    "Power = constants['Emissivity'] * constants['Constant'] * (constants['Temp'] ** 4)  * (4 * constants['pi']) * constants['Radius1'] * constants['Radius1']\n",
    "print('Power of the sun :', Power, 'Watts') #display the Power of the sun with units included    "
   ]
  },
  {
   "cell_type": "markdown",
   "metadata": {},
   "source": [
    "The $\\textbf{Power of the Sun}$ is approximately 3.83x10$^{26}$ Watts.\n",
    "______________________________________________________________________________________________________________________\n",
    "\n",
    "3) Which of the following would be an appropriate equilibrium equation to represent that the power received from the sun is equal to that emitted by the earth ($P~received = P~emitted$). Hint: this should include a comparison between the two different areas of interest (the circle area that receives energy from the sun, $\\pi R^2$, and the earth's surface area that emits energy, $4\\pi R^2$) as well as the Solar Constant (So) and the other terms in the Stefan Boltzmann equation? Explain your reasoning behind your choice. \n",
    "\n",
    " a) $So*\\pi R^2 = e\\sigma T^4*4\\pi R^2$\n",
    " \n",
    " b) $So* 4\\pi R^2 = e\\sigma T^4*4\\pi R^2$\n",
    " \n",
    " c) $So*\\pi R^2 = e\\sigma T^4*\\pi R^2$\n",
    " \n",
    "Q3 Solution:\n",
    "\n",
    "The correct equation to represent that the power received from the sun is equal to that emitted by the earth is **choice a**, $So*\\pi R^2 = e\\sigma T^4*4\\pi R^2$, because on the left side of the equation, the Solar Constant is being multiplied by the area of a circle on the earth that receives energy from the sun and this area equation should be for a circle, hence $\\pi R^2$. The right side of the equation represents the power that the earth emits and has all of the terms of the Stefan-Boltzmann law multiplied by the surface area of the earth. Because the earth emits energy from all sides of its surface, the area term on the right side of the equation should be for surface area, hence $4\\pi R^2$.\n",
    "\n",
    "________________________________________________________\n",
    "\n",
    "4) In the example above we calculated the Solar Constant, So (in W/m$^2$), which is the energy that the earth receives from the sun. Using this, calculate the black body temperature of the earth. Hint: we do this by using the correct equilibrium equation from question 3, rearranging to solve for temperature, and then simplifying any terms that cancel. Show each of these steps and include the code you wrote to calculate your answer. Assume that the earth is a black body. Lastly, please convert your answer from Kelvins to degrees Celsius knowing that $degrees\\ Celcius = Kelvin - 273.15$.\n",
    "\n",
    "Q4 Solution:\n",
    "\n",
    "First, I'll rearrange the original equation to solve for temperature: \n",
    "$$So*\\pi R^2 = e\\sigma T^4*4\\pi R^2$$\n",
    "\n",
    "Step 1, move $T^4$ to the left side and all other terms to the right side. I'm also going to remove the term for emissivity (e), since it's just going to be 1:  \n",
    "$$T^4 = (So*\\pi R^2)/(\\sigma*4\\pi R^2)$$\n",
    "\n",
    "Step 2, directly compare the area terms to see what can be canceled and/or simplified (in this case the $\\pi R^2$ will cancel): \n",
    "$$T^4 = (So/4\\sigma)*(\\pi R^2/\\pi R^2)$$\n",
    "\n",
    "Step 3, take the fourth root on both sides so that $T^4$ becomes T on the left side: \n",
    "$$T = [So/4\\sigma]^{1/4}$$\n",
    "\n",
    "Now I can write code to create a variable and list of values to solve for T. "
   ]
  },
  {
   "cell_type": "code",
   "execution_count": 13,
   "metadata": {},
   "outputs": [
    {
     "name": "stdout",
     "output_type": "stream",
     "text": [
      "Temperature of the Earth:  5.124854622621399 in degrees Celsius\n"
     ]
    }
   ],
   "source": [
    "#Create a new dictionary of constants for solving the temperature of the earth\n",
    "Earth_constants = {'Constant' : 5.67E-8,\n",
    "             'So' : 1360}\n",
    "\n",
    "Temp_Earth_K = (Earth_constants['So']/(4 * Earth_constants['Constant'])) ** (.25) #Calculate the temperature of the earth in kelvins\n",
    "Temp_Earth_C = Temp_Earth_K - 273.15 #Calculate the temperature of the earth in degrees Celsius\n",
    "print('Temperature of the Earth: ', Temp_Earth_C, 'in degrees Celsius') #display the temperature of the earth with units included"
   ]
  },
  {
   "cell_type": "markdown",
   "metadata": {},
   "source": [
    "The $\\textbf{black body temperature of the earth}$ is $\\textbf{5.12 degrees Celsius}$. It's cold without an atmosphere!"
   ]
  }
 ],
 "metadata": {
  "kernelspec": {
   "display_name": "Python 3",
   "language": "python",
   "name": "python3"
  },
  "language_info": {
   "codemirror_mode": {
    "name": "ipython",
    "version": 3
   },
   "file_extension": ".py",
   "mimetype": "text/x-python",
   "name": "python",
   "nbconvert_exporter": "python",
   "pygments_lexer": "ipython3",
   "version": "3.8.3"
  }
 },
 "nbformat": 4,
 "nbformat_minor": 4
}
