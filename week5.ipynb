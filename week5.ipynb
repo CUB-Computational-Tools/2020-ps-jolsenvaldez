{
 "cells": [
  {
   "cell_type": "markdown",
   "metadata": {},
   "source": [
    "# Week 5 Problem Set: The Stefan-Boltzmann Law\n",
    "Juliana Olsen-Valdez\n",
    "\n",
    "10/01/2020"
   ]
  },
  {
   "cell_type": "markdown",
   "metadata": {},
   "source": [
    "## Introduction\n",
    "Between 1879 and 1884, two Austrian physicists simultaneously derived a thermodynamics law that related the power per unit area to an absolute temperature for perfect black bodies (those that absorb all radiant energy). The Stefan-Boltzmann law, named after both scientists, is a powerful equation that allows for the calculation of the radiation emitted and/or received by planets of different sizes, as well as the black body temperature of those planets. \n",
    "\n",
    "\n",
    "## Learning Goals\n",
    "By the end of this exercise, you will be able to:\n",
    "1) Define the quantitative terms in the Stefan-Boltzmann law, along with providing their units. \n",
    "2) Understand how the Stefan-Boltzmann law can be applied to thermodynamic calculations using astronomical geometry. \n",
    "3) Solve for the Power (in Watts) of the sun. \n",
    "4) Solve for the black body Temperature (in degrees Celsius) of the earth. \n",
    "\n",
    "\n",
    "## Background and Defining Terms\n",
    "The Stefan-Boltzmann law states that $\\textit{the thermal energy radiated by a black body (in Watts per unit area squared) is proportional to the fourth power of the absolute temperature (in kelvins)}$\n",
    "\n",
    "Below is the Stefan-Boltzmann law, with labeled variables and units:\n",
    "Note that the three main units are Watts (for power), square meters (for surface area), and Kelvins (for temperature).\n",
    "\n",
    "$\\frac{P}{A} = e \\sigma T^4$\n",
    "\n",
    "$P = Power  (Watts)$\n",
    "\n",
    "$A = Area  (meters^2)$\n",
    "\n",
    "$e = emissivity  (unitless)$\n",
    "\n",
    "$\\sigma = Stephan-Boltzmann constant (5.67x 10^{-8} W/m^2/T^4)$\n",
    "\n",
    "$T = Temperature (degrees Kelvin^4)$\n",
    "\n",
    "In this form, the Stefan-Boltzmann equation compares an energy (power per unit area squared, with units in $\\frac{W}{m^2}$) to temperature raised to the fourth (with units in $Kelvin^4$). The Stefan-Boltzmann constant creates a proportionality between these variables (notice that the units of the constant make it so that the units on either side of the equals sign simplify to $\\frac{W}{m^2}$). Emissivity refers to the effectiveness of an object to emit an energy. For black bodies, which absorb all incident heat radiation, emissivity is equal to 1.\n",
    "\n",
    "One more thing! When we talk about Area (in $m^2$), we're mostly talking about the surface area of a planet or black body. This is because energy comes out from all sides of a planet's surface. Therefore, Area (A) is usually represented by the equation for surface area, $4 \\pi R^2$, where R is the radius of a planet. What we take to be the area (or the radius) might change depending on what area we define as emitting or receiving energy.\n",
    "\n",
    "Now let's get into what this equation is really saying and why it is powerful: \n",
    "-If we know the temperature and the surface area (which we can get from the radius) of a planet, we can find the wattage of that planet. \n",
    "-We can also solve for the black body temperature of a planet if we know the amount of energy it receives. \n",
    "-Historically in Geology, solving thermodynamics problems like these was the first step in understanding the age of the earth, processes of heat moving in the earth, and many other cornerstone geological questions.\n",
    "\n",
    "\n",
    "## Example\n",
    "We are going to use the Stefan-Boltzmann law and some astronomical geometry to calculate the Solar Constant (So), defined as the energy that the earth receives from the sun in $Watts/meters^2$. We are going to use the Stefan-Boltzmann law in this form:\n",
    "\n",
    "$P = e \\sigma T^4*A$\n",
    "\n",
    "First, we'll calculate the Power from the sun using a temperature of 5770K and a surface area ($4\\pi R^2$) with a radius equal to that of the sun ($6.96x10^8$)."
   ]
  },
  {
   "cell_type": "code",
   "execution_count": 15,
   "metadata": {},
   "outputs": [],
   "source": [
    "#When we do basic mathematical calculations in python, we need the numerical library, called 'numpy'. \n",
    "#Below, you see that we import it with the short name 'np' so that it's faster to call it in our code. \n",
    "\n",
    "import numpy as np"
   ]
  },
  {
   "cell_type": "code",
   "execution_count": 16,
   "metadata": {},
   "outputs": [],
   "source": [
    "#we'll create dictionary of constants that we'll call from when we do calculations\n",
    "constants = {'Temp' : 5770,\n",
    "             'Constant' : 5.67E-8,\n",
    "             'Emissivity' : 1,\n",
    "             'Radius1' : 6.96E8, \n",
    "             'Radius2' : 1.496E11, \n",
    "             'pi' : 3.14}"
   ]
  },
  {
   "cell_type": "markdown",
   "metadata": {},
   "source": [
    "Now that we have created a list of constants, we can use our pre-defined values to first calculate the power of the Sun. Here is the same equation as above ready to be solved. \n",
    "\n",
    "$P_{sun} = (1)*(5.67x10^{-8})*(5770^4)*(4\\pi (6.96x10^8)^2)$\n",
    "\n",
    "Let's use our list of values to compute the Power of the sun, which we name P."
   ]
  },
  {
   "cell_type": "code",
   "execution_count": 17,
   "metadata": {},
   "outputs": [
    {
     "ename": "TypeError",
     "evalue": "unsupported operand type(s) for ^: 'float' and 'int'",
     "output_type": "error",
     "traceback": [
      "\u001b[0;31m---------------------------------------------------------------------------\u001b[0m",
      "\u001b[0;31mTypeError\u001b[0m                                 Traceback (most recent call last)",
      "\u001b[0;32m<ipython-input-17-e6308b6e161f>\u001b[0m in \u001b[0;36m<module>\u001b[0;34m\u001b[0m\n\u001b[1;32m      1\u001b[0m \u001b[0;31m# calculate the Power of the sun\u001b[0m\u001b[0;34m\u001b[0m\u001b[0;34m\u001b[0m\u001b[0;34m\u001b[0m\u001b[0m\n\u001b[0;32m----> 2\u001b[0;31m \u001b[0mPower\u001b[0m \u001b[0;34m=\u001b[0m \u001b[0mconstants\u001b[0m\u001b[0;34m[\u001b[0m\u001b[0;34m'Emissivity'\u001b[0m\u001b[0;34m]\u001b[0m \u001b[0;34m*\u001b[0m \u001b[0mconstants\u001b[0m\u001b[0;34m[\u001b[0m\u001b[0;34m'Constant'\u001b[0m\u001b[0;34m]\u001b[0m \u001b[0;34m*\u001b[0m \u001b[0;34m(\u001b[0m\u001b[0mconstants\u001b[0m\u001b[0;34m[\u001b[0m\u001b[0;34m'Temp'\u001b[0m\u001b[0;34m]\u001b[0m\u001b[0;34m^\u001b[0m\u001b[0;36m4\u001b[0m\u001b[0;34m)\u001b[0m \u001b[0;34m*\u001b[0m \u001b[0;34m(\u001b[0m\u001b[0;36m4\u001b[0m \u001b[0;34m*\u001b[0m \u001b[0mconstants\u001b[0m\u001b[0;34m[\u001b[0m\u001b[0;34m'pi'\u001b[0m\u001b[0;34m]\u001b[0m \u001b[0;34m*\u001b[0m \u001b[0;34m(\u001b[0m\u001b[0mconstants\u001b[0m\u001b[0;34m[\u001b[0m\u001b[0;34m'Radius1'\u001b[0m\u001b[0;34m]\u001b[0m\u001b[0;34m^\u001b[0m\u001b[0;36m2\u001b[0m\u001b[0;34m)\u001b[0m\u001b[0;34m)\u001b[0m\u001b[0;34m\u001b[0m\u001b[0;34m\u001b[0m\u001b[0m\n\u001b[0m\u001b[1;32m      3\u001b[0m \u001b[0mprint\u001b[0m\u001b[0;34m(\u001b[0m\u001b[0;34m'Power: '\u001b[0m\u001b[0;34m,\u001b[0m \u001b[0mPower\u001b[0m\u001b[0;34m,\u001b[0m \u001b[0;34m'W'\u001b[0m\u001b[0;34m)\u001b[0m\u001b[0;34m\u001b[0m\u001b[0;34m\u001b[0m\u001b[0m\n",
      "\u001b[0;31mTypeError\u001b[0m: unsupported operand type(s) for ^: 'float' and 'int'"
     ]
    }
   ],
   "source": [
    "# calculate the Power of the sun\n",
    "Power = constants['Emissivity'] * constants['Constant'] * (constants['Temp']^4) * (4 * constants['pi'] * (constants['Radius1']^2))\n",
    "print('Power: ', Power, 'W')"
   ]
  },
  {
   "cell_type": "markdown",
   "metadata": {},
   "source": [
    "Now we'll take the Power of the sun and divide it by the surface area of a radius that equals the distance between the earth and the sun. Why? Because if we want to know the amount of energy (in $W/m^2$) that the earth receives from the sun and we know the power that the sun gives off, then we need to divide that power (in Watts) by an area whose radius reflects the distance that that energy travels from the sun to the earth. That is the value of $1.496x10^{11}$ meters.\n",
    "\n",
    "$So = P_{sun} / 4 \\pi R^2 $\n",
    "\n",
    "Here's the same equation ready to be solved:\n",
    "\n",
    "$So = P_{sun} / 4 \\pi (1.496x10^{11})^2) $\n",
    "\n",
    "Now we'll take the Power of the sun and divide it by the surface area of a radius that equals the distance between the earth and the sun. Why? Because if we want to know the amount of energy (in $W/m^2$) that the earth receives from the sun and we know the power that the sun gives off, then we need to divide that power (in Watts) by an area whose radius reflects the distance that that energy travels from the sun to the earth. \n",
    "\n",
    "That is the value of $1.496x10^{11}$ meters.\n",
    "\n",
    "$ So = P_{sun} / 4 \\pi R^2 $ \n",
    "\n",
    "Here's the same equation ready to be solved:\n",
    "\n",
    "$ So = P_{sun} / 4 \\pi (1.496x10^{11})^2) $ \n",
    "\n",
    "In our code, we can take the value that we got for P and divide it by the terms that we need to represent the surface area to solve for So. "
   ]
  },
  {
   "cell_type": "code",
   "execution_count": 18,
   "metadata": {},
   "outputs": [
    {
     "ename": "NameError",
     "evalue": "name 'Power' is not defined",
     "output_type": "error",
     "traceback": [
      "\u001b[0;31m---------------------------------------------------------------------------\u001b[0m",
      "\u001b[0;31mNameError\u001b[0m                                 Traceback (most recent call last)",
      "\u001b[0;32m<ipython-input-18-08f1efe31672>\u001b[0m in \u001b[0;36m<module>\u001b[0;34m\u001b[0m\n\u001b[1;32m      1\u001b[0m \u001b[0;31m# calculate the Solar Constant (So)\u001b[0m\u001b[0;34m\u001b[0m\u001b[0;34m\u001b[0m\u001b[0;34m\u001b[0m\u001b[0m\n\u001b[0;32m----> 2\u001b[0;31m \u001b[0mSo\u001b[0m \u001b[0;34m=\u001b[0m \u001b[0;34m(\u001b[0m\u001b[0mPower\u001b[0m\u001b[0;34m/\u001b[0m\u001b[0;34m(\u001b[0m\u001b[0;36m4\u001b[0m\u001b[0;34m*\u001b[0m\u001b[0mconstants\u001b[0m\u001b[0;34m[\u001b[0m\u001b[0;34m'pi'\u001b[0m\u001b[0;34m]\u001b[0m\u001b[0;34m*\u001b[0m\u001b[0;34m(\u001b[0m\u001b[0mconstants\u001b[0m\u001b[0;34m[\u001b[0m\u001b[0;34m'Radius2'\u001b[0m\u001b[0;34m]\u001b[0m\u001b[0;34m^\u001b[0m\u001b[0;36m2\u001b[0m\u001b[0;34m)\u001b[0m\u001b[0;34m)\u001b[0m\u001b[0;34m)\u001b[0m\u001b[0;34m\u001b[0m\u001b[0;34m\u001b[0m\u001b[0m\n\u001b[0m\u001b[1;32m      3\u001b[0m \u001b[0mprint\u001b[0m\u001b[0;34m(\u001b[0m\u001b[0;34m'So: '\u001b[0m\u001b[0;34m,\u001b[0m \u001b[0mSo\u001b[0m\u001b[0;34m,\u001b[0m \u001b[0;34m'W / m^2'\u001b[0m\u001b[0;34m)\u001b[0m\u001b[0;34m\u001b[0m\u001b[0;34m\u001b[0m\u001b[0m\n",
      "\u001b[0;31mNameError\u001b[0m: name 'Power' is not defined"
     ]
    }
   ],
   "source": [
    "# calculate the Solar Constant (So)\n",
    "So = (Power/(4*constants['pi']*(constants['Radius2']^2)))\n",
    "print('So: ', So, 'W / m^2')"
   ]
  },
  {
   "cell_type": "markdown",
   "metadata": {},
   "source": [
    "So the $\\textbf{Solar Constant (So)}$ or energy that the earth receives from the sun in Watts per meter squared is about $1360 W/m^2$. Good work! "
   ]
  },
  {
   "cell_type": "markdown",
   "metadata": {},
   "source": [
    "## Questions\n",
    "\n",
    "1) What are the units of the Stefan-Boltzmann constant? Write out the units in the Stefan-Boltzmann law to show how the units of this constant cancel certain units to leave both sides of the equation with the same units. \n",
    "_______________________________________________________\n",
    "\n",
    "2) Solve for the Power (in Watts) of the sun using the Sun's temperature of 5770 K and the Sun's radius of $6.97x10^8$ meters. Assume that the sun is a black body (therefore, the emissivity will equal 1). Create a variable and list of values of your own and then calculate the Power of the sun using your variable and list. Hint: look to the example if you need help with the code! You can copy, paste, and edit any code chunks from above. Provide your answer with the correct number of significant digits. \n",
    "________________________________________________________\n",
    "\n",
    "3) Which of the following would be an appropriate equilibrium equation to represent that the power received from the sun is equal to that emitted by the earth ($P~received = P~emitted$). Hint: this should include a comparison between the two different areas of interest (the circle area that receives energy from the sun, $\\pi R^2$, and the earth's surface area that emits energy, $4\\pi R^2$) as well as the Solar Constant (So) and the other terms in the Stefan Boltzmann equation? Explain your reasoning behind your choice. \n",
    "\n",
    " a) $So * \\pi R^2 = e \\sigma T^4 * 4 \\pi R^2$\n",
    " b) $So * 4 \\pi R^2 = e \\sigma T^4 * 4 \\pi R^2$\n",
    " c) $So * \\pi R^2 = e \\sigma T^4 * \\pi R^2$\n",
    " \n",
    "_________________________________________________________\n",
    "\n",
    "4) In the example above we calculated the Solar Constant, So (in $W/m^2$), which is the energy that the earth receives from the sun. Using this, calculate the black body temperature of the earth. Hint: we do this by using the correct equilibrium equation from question 3, rearranging to solve for temperature, and then simplifying any terms that cancel. Show each of these steps and include the code you wrote to calculate your answer. Assume that the earth is a black body. Lastly, please convert for answer from Kelvin to degrees Celsius knowing that $degrees\\ Celcius = Kelvin - 273.15$.\n",
    "\n",
    "## Sources\n",
    "-https://www.britannica.com/science/Stefan-Boltzmann-law\n",
    "-https://www.deviantart.com/zackdowney/art/Stefan-Boltzmann-Law-407403124\n",
    "-http://hyperphysics.phy-astr.gsu.edu/hbase/thermo/stefan.html\n",
    "-https://www.youtube.com/watch?v=DQk04xqvVbU\n",
    "-https://www.youtube.com/watch?v=JiWnMd9I8GE\n",
    "\n",
    "\n",
    "## Solutions to Questions\n"
   ]
  },
  {
   "cell_type": "code",
   "execution_count": null,
   "metadata": {},
   "outputs": [],
   "source": []
  }
 ],
 "metadata": {
  "kernelspec": {
   "display_name": "Python 3",
   "language": "python",
   "name": "python3"
  },
  "language_info": {
   "codemirror_mode": {
    "name": "ipython",
    "version": 3
   },
   "file_extension": ".py",
   "mimetype": "text/x-python",
   "name": "python",
   "nbconvert_exporter": "python",
   "pygments_lexer": "ipython3",
   "version": "3.8.3"
  }
 },
 "nbformat": 4,
 "nbformat_minor": 4
}
